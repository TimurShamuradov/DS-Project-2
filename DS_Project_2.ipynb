{
 "cells": [
  {
   "cell_type": "markdown",
   "id": "42289889-bd57-434e-9637-d3e354756316",
   "metadata": {
    "id": "42289889-bd57-434e-9637-d3e354756316"
   },
   "source": [
    "<center> <img src = https://raw.githubusercontent.com/AndreyRysistov/DatasetsForPandas/main/hh%20label.jpg alt=\"drawing\" style=\"width:400px;\">"
   ]
  },
  {
   "cell_type": "markdown",
   "id": "829cb75b-f14e-4ba8-9195-7ba929a7d656",
   "metadata": {
    "id": "829cb75b-f14e-4ba8-9195-7ba929a7d656",
    "tags": []
   },
   "source": [
    "# <center> Проект: Анализ вакансий из HeadHunter\n",
    "   "
   ]
  },
  {
   "cell_type": "code",
   "execution_count": 347,
   "id": "dccfde33-2452-43fb-a8a5-5c6ebc02a71d",
   "metadata": {
    "id": "dccfde33-2452-43fb-a8a5-5c6ebc02a71d"
   },
   "outputs": [],
   "source": [
    "import pandas as pd"
   ]
  },
  {
   "cell_type": "code",
   "execution_count": 348,
   "id": "f87d89a7-27e1-4dc7-a0d5-235d98997bd6",
   "metadata": {},
   "outputs": [],
   "source": [
    "# Install this libraries if they are not installed. If installed, you dont have to run them.\n",
    "# !pip install psycopg2-binary\n",
    "# !pip install sqlalchemy"
   ]
  },
  {
   "cell_type": "markdown",
   "id": "89566c8b-20ff-41fa-8168-0562eba39f0a",
   "metadata": {
    "tags": []
   },
   "source": [
    "### Setting up parameters for connection to database"
   ]
  },
  {
   "cell_type": "code",
   "execution_count": 349,
   "id": "G4X_q8KBf7SF",
   "metadata": {
    "id": "G4X_q8KBf7SF"
   },
   "outputs": [],
   "source": [
    "param = {}\n",
    "\n",
    "#open config.text that contains credentials to connect to database\n",
    "with open ('config.txt') as file:\n",
    "    \n",
    "    #read each line of the text file\n",
    "    for line in file:\n",
    "        \n",
    "        #split the line by '=' and save into variables key, value\n",
    "        key, value = line.split('=')\n",
    "        \n",
    "        #remove any leading or trailing white spaces\n",
    "        key, value = key.strip(), value.strip()\n",
    "        \n",
    "        #add key-value pairs to the dictionary\n",
    "        param[key] = value\n"
   ]
  },
  {
   "cell_type": "code",
   "execution_count": 350,
   "id": "2b716903-2e61-4982-ab23-dd89c0124f73",
   "metadata": {},
   "outputs": [],
   "source": [
    "#connection string with credentials taken from param dictionary\n",
    "connection = f'postgresql+psycopg2://{param[\"USER\"]}:{param[\"PASSWORD\"]}@{param[\"HOST\"]}:{param[\"PORT\"]}/{param[\"DBNAME\"]}'"
   ]
  },
  {
   "cell_type": "markdown",
   "id": "0dc6476b-7a00-44f1-ac93-6e3baed33a29",
   "metadata": {
    "id": "0dc6476b-7a00-44f1-ac93-6e3baed33a29",
    "tags": []
   },
   "source": [
    "# Юнит 3. Предварительный анализ данных"
   ]
  },
  {
   "cell_type": "markdown",
   "id": "889782b6-8d1c-410e-8920-e57f27917c64",
   "metadata": {
    "id": "889782b6-8d1c-410e-8920-e57f27917c64"
   },
   "source": [
    "1. Напишите запрос, который посчитает количество вакансий в нашей базе (вакансии находятся в таблице vacancies). "
   ]
  },
  {
   "cell_type": "code",
   "execution_count": 351,
   "id": "bc39e68e-ed02-4ee2-9235-7258a2f867a8",
   "metadata": {
    "id": "bc39e68e-ed02-4ee2-9235-7258a2f867a8"
   },
   "outputs": [],
   "source": [
    "# текст запроса\n",
    "query_3_1 = '''\n",
    "select \n",
    "    count(distinct id)\n",
    "from vacancies\n",
    "'''"
   ]
  },
  {
   "cell_type": "code",
   "execution_count": 352,
   "id": "7mAwtsk4hEHY",
   "metadata": {
    "id": "7mAwtsk4hEHY"
   },
   "outputs": [
    {
     "name": "stdout",
     "output_type": "stream",
     "text": [
      "3.1 Количество уникальных доступных вакансий: 49197\n"
     ]
    }
   ],
   "source": [
    "# результат запроса\n",
    "answer_3_1 = pd.read_sql_query(query_3_1, connection)\n",
    "print(f\"3.1 Количество уникальных доступных вакансий: {answer_3_1['count'][0]}\")"
   ]
  },
  {
   "cell_type": "markdown",
   "id": "b583485d-1f9e-494e-ada4-80ffff7c53d6",
   "metadata": {
    "id": "b583485d-1f9e-494e-ada4-80ffff7c53d6"
   },
   "source": [
    "2. Напишите запрос, который посчитает количество работодателей (таблица employers). "
   ]
  },
  {
   "cell_type": "code",
   "execution_count": 353,
   "id": "5408c52c-3407-4a63-b25b-1aafa2322d28",
   "metadata": {
    "id": "5408c52c-3407-4a63-b25b-1aafa2322d28"
   },
   "outputs": [],
   "source": [
    "# текст запроса\n",
    "query_3_2 = '''\n",
    "select \n",
    "    count(distinct id)\n",
    "from employers\n",
    "'''"
   ]
  },
  {
   "cell_type": "code",
   "execution_count": 354,
   "id": "jVL4eshKhdqc",
   "metadata": {
    "id": "jVL4eshKhdqc"
   },
   "outputs": [
    {
     "name": "stdout",
     "output_type": "stream",
     "text": [
      "3.2 Количество уникальных работодателей: 23501\n"
     ]
    }
   ],
   "source": [
    "# результат запроса\n",
    "answer_3_2 = pd.read_sql_query(query_3_2, connection)\n",
    "print(f\"3.2 Количество уникальных работодателей: {answer_3_2['count'][0]}\")"
   ]
  },
  {
   "cell_type": "markdown",
   "id": "a2bfff1f-c975-4bf6-84be-2185d79dcb76",
   "metadata": {
    "id": "a2bfff1f-c975-4bf6-84be-2185d79dcb76"
   },
   "source": [
    "3. Посчитате с помощью запроса количество регионов (таблица areas)."
   ]
  },
  {
   "cell_type": "code",
   "execution_count": 355,
   "id": "1m8QJwBYhey6",
   "metadata": {
    "id": "1m8QJwBYhey6"
   },
   "outputs": [],
   "source": [
    "# текст запроса\n",
    "query_3_3 = '''\n",
    "select \n",
    "    count(distinct id)\n",
    "from areas\n",
    "'''"
   ]
  },
  {
   "cell_type": "code",
   "execution_count": 356,
   "id": "EZsn9tlfhe7f",
   "metadata": {
    "id": "EZsn9tlfhe7f"
   },
   "outputs": [
    {
     "name": "stdout",
     "output_type": "stream",
     "text": [
      "3.3 Количество уникальных географических зон с доступными вакансиями: 1362\n"
     ]
    }
   ],
   "source": [
    "# результат запроса\n",
    "answer_3_3 = pd.read_sql_query(query_3_3, connection)\n",
    "print(f\"3.3 Количество уникальных географических зон с доступными вакансиями: {answer_3_3['count'][0]}\")"
   ]
  },
  {
   "cell_type": "markdown",
   "id": "41bb59f3-53cc-4a67-a5bc-bedf573955e4",
   "metadata": {
    "id": "41bb59f3-53cc-4a67-a5bc-bedf573955e4"
   },
   "source": [
    "4. Посчитате с помощью запроса количество сфер деятельности в базе (таблица industries)."
   ]
  },
  {
   "cell_type": "code",
   "execution_count": 357,
   "id": "d286cf4c-707b-4cd2-9190-7ab3587d04a1",
   "metadata": {
    "id": "d286cf4c-707b-4cd2-9190-7ab3587d04a1"
   },
   "outputs": [],
   "source": [
    "# текст запроса\n",
    "query_3_4 = '''\n",
    "select\n",
    "    count(distinct industry_id)\n",
    "from employers_industries\n",
    "'''"
   ]
  },
  {
   "cell_type": "code",
   "execution_count": 358,
   "id": "JYAaoZ4qhfzW",
   "metadata": {
    "id": "JYAaoZ4qhfzW"
   },
   "outputs": [
    {
     "name": "stdout",
     "output_type": "stream",
     "text": [
      "3.4 Количество уникальных отраслей в таблице отраслей работодателей: 294\n"
     ]
    }
   ],
   "source": [
    "# результат запроса\n",
    "answer_3_4 = pd.read_sql_query(query_3_4, connection)\n",
    "print(f\"3.4 Количество уникальных отраслей в таблице отраслей работодателей: {answer_3_4['count'][0]}\")"
   ]
  },
  {
   "cell_type": "markdown",
   "id": "9a8a2181-6914-448b-85f1-38f5f18b8a93",
   "metadata": {
    "id": "9a8a2181-6914-448b-85f1-38f5f18b8a93"
   },
   "source": [
    "***"
   ]
  },
  {
   "cell_type": "markdown",
   "id": "46ba88c0-0569-404c-94f4-333e296a1682",
   "metadata": {
    "id": "be4e9bd3-a4db-4a20-82fb-6b02fc2957e0"
   },
   "source": [
    "### выводы по предварительному анализу данных:\n",
    "### Общий обзор (Раздел 3)\n",
    "\n",
    "- **Разнообразие возможностей (3.1)**: С 49 197 уникальных вакансий, рынок труда выглядит живым и разнообразным.\n",
    "- **Разнообразие работодателей (3.2)**: Значительное количество уникальных работодателей (23 501) указывает на здоровую конкуренцию за таланты.\n",
    "- **Географическое распределение (3.3)**: 1 362 уникальных района показывают, что возможности для работы не ограничены лишь несколькими регионами.\n",
    "- **Диверсификация отраслей (3.4)**: С 294 уникальными отраслями, рынок не доминируется какой-либо одной сферой, предлагая широкий спектр карьерных путей.\n",
    "\n",
    "### Заключения:\n",
    "\n",
    "1. **Динамичный рынок**: Огромное количество вакансий и работодателей говорит о динамичном, конкурентоспособном рынке труда.\n",
    "2. **Географическая гибкость**: Широкое географическое распределение может быть преимуществом, если вы открыты к переезду или ищете удаленную работу.\n",
    "3. **Межотраслевые возможности**: Разнообразие отраслей означает, что вы потенциально можете переключиться или исследовать разные сферы.\n",
    "\n",
    "\n",
    "\n",
    "### English:\n",
    "### General Overview (Section 3)\n",
    "\n",
    "- **Variety of Opportunities (3.1)**: With 49,197 unique vacancies, the job market appears robust and diverse.\n",
    "- **Employer Diversity (3.2)**: A significant number of unique employers (23,501) suggests a healthy competition for talent.\n",
    "- **Geographical Spread (3.3)**: 1,362 unique areas indicate that job opportunities are not confined to just a few regions.\n",
    "- **Industry Diversification (3.4)**: With 294 unique industries, the market isn't dominated by any single sector, offering a wide range of career paths.\n",
    "\n",
    "### Conclusions:\n",
    "\n",
    "1. **Dynamic Market**: The sheer number of vacancies and employers suggests a dynamic, competitive job market.\n",
    "2. **Geographical Flexibility**: The wide geographic spread could be advantageous if you're open to relocating or looking for remote work.\n",
    "3. **Cross-Industry Opportunities**: The diversity in industries means you could potentially pivot or explore different fields."
   ]
  },
  {
   "cell_type": "markdown",
   "id": "8d62a9f3-f64e-4fe7-bdac-c4dffa16155e",
   "metadata": {
    "id": "8d62a9f3-f64e-4fe7-bdac-c4dffa16155e",
    "tags": []
   },
   "source": [
    "# Юнит 4. Детальный анализ вакансий"
   ]
  },
  {
   "cell_type": "markdown",
   "id": "93053d3d-b284-481a-9cf7-012d7014c0e0",
   "metadata": {
    "id": "93053d3d-b284-481a-9cf7-012d7014c0e0"
   },
   "source": [
    "1. Напишите запрос, который позволит узнать, сколько (cnt) вакансий в каждом регионе (area).\n",
    "Отсортируйте по количеству вакансий в порядке убывания."
   ]
  },
  {
   "cell_type": "code",
   "execution_count": 359,
   "id": "3f069da6-fdc9-4ae7-b514-fafe2675efd3",
   "metadata": {
    "id": "3f069da6-fdc9-4ae7-b514-fafe2675efd3"
   },
   "outputs": [],
   "source": [
    "# текст запроса\n",
    "query_4_1 = '''\n",
    "select \n",
    "    a.name area_name,\n",
    "    count(v.id) cnt\n",
    "from areas a\n",
    "    left join vacancies v on v.area_id = a.id\n",
    "group by a.name\n",
    "order by count(v.id) desc\n",
    "'''"
   ]
  },
  {
   "cell_type": "code",
   "execution_count": 360,
   "id": "P7QL86hrjhRJ",
   "metadata": {
    "id": "P7QL86hrjhRJ"
   },
   "outputs": [
    {
     "name": "stdout",
     "output_type": "stream",
     "text": [
      "4.1 Количество доступных вакансий в каждом регионе:\n"
     ]
    },
    {
     "data": {
      "text/html": [
       "<div>\n",
       "<style scoped>\n",
       "    .dataframe tbody tr th:only-of-type {\n",
       "        vertical-align: middle;\n",
       "    }\n",
       "\n",
       "    .dataframe tbody tr th {\n",
       "        vertical-align: top;\n",
       "    }\n",
       "\n",
       "    .dataframe thead th {\n",
       "        text-align: right;\n",
       "    }\n",
       "</style>\n",
       "<table border=\"1\" class=\"dataframe\">\n",
       "  <thead>\n",
       "    <tr style=\"text-align: right;\">\n",
       "      <th></th>\n",
       "      <th>area_name</th>\n",
       "      <th>cnt</th>\n",
       "    </tr>\n",
       "  </thead>\n",
       "  <tbody>\n",
       "    <tr>\n",
       "      <th>0</th>\n",
       "      <td>Москва</td>\n",
       "      <td>5333</td>\n",
       "    </tr>\n",
       "    <tr>\n",
       "      <th>1</th>\n",
       "      <td>Санкт-Петербург</td>\n",
       "      <td>2851</td>\n",
       "    </tr>\n",
       "    <tr>\n",
       "      <th>2</th>\n",
       "      <td>Минск</td>\n",
       "      <td>2112</td>\n",
       "    </tr>\n",
       "    <tr>\n",
       "      <th>3</th>\n",
       "      <td>Новосибирск</td>\n",
       "      <td>2006</td>\n",
       "    </tr>\n",
       "    <tr>\n",
       "      <th>4</th>\n",
       "      <td>Алматы</td>\n",
       "      <td>1892</td>\n",
       "    </tr>\n",
       "    <tr>\n",
       "      <th>5</th>\n",
       "      <td>Екатеринбург</td>\n",
       "      <td>1698</td>\n",
       "    </tr>\n",
       "    <tr>\n",
       "      <th>6</th>\n",
       "      <td>Нижний Новгород</td>\n",
       "      <td>1670</td>\n",
       "    </tr>\n",
       "    <tr>\n",
       "      <th>7</th>\n",
       "      <td>Казань</td>\n",
       "      <td>1415</td>\n",
       "    </tr>\n",
       "    <tr>\n",
       "      <th>8</th>\n",
       "      <td>Краснодар</td>\n",
       "      <td>1301</td>\n",
       "    </tr>\n",
       "    <tr>\n",
       "      <th>9</th>\n",
       "      <td>Самара</td>\n",
       "      <td>1144</td>\n",
       "    </tr>\n",
       "    <tr>\n",
       "      <th>10</th>\n",
       "      <td>Ростов-на-Дону</td>\n",
       "      <td>1131</td>\n",
       "    </tr>\n",
       "    <tr>\n",
       "      <th>11</th>\n",
       "      <td>Воронеж</td>\n",
       "      <td>1063</td>\n",
       "    </tr>\n",
       "    <tr>\n",
       "      <th>12</th>\n",
       "      <td>Ташкент</td>\n",
       "      <td>851</td>\n",
       "    </tr>\n",
       "    <tr>\n",
       "      <th>13</th>\n",
       "      <td>Красноярск</td>\n",
       "      <td>847</td>\n",
       "    </tr>\n",
       "    <tr>\n",
       "      <th>14</th>\n",
       "      <td>Нур-Султан</td>\n",
       "      <td>840</td>\n",
       "    </tr>\n",
       "    <tr>\n",
       "      <th>15</th>\n",
       "      <td>Челябинск</td>\n",
       "      <td>786</td>\n",
       "    </tr>\n",
       "    <tr>\n",
       "      <th>16</th>\n",
       "      <td>Пермь</td>\n",
       "      <td>771</td>\n",
       "    </tr>\n",
       "    <tr>\n",
       "      <th>17</th>\n",
       "      <td>Уфа</td>\n",
       "      <td>767</td>\n",
       "    </tr>\n",
       "    <tr>\n",
       "      <th>18</th>\n",
       "      <td>Томск</td>\n",
       "      <td>692</td>\n",
       "    </tr>\n",
       "    <tr>\n",
       "      <th>19</th>\n",
       "      <td>Омск</td>\n",
       "      <td>617</td>\n",
       "    </tr>\n",
       "  </tbody>\n",
       "</table>\n",
       "</div>"
      ],
      "text/plain": [
       "          area_name   cnt\n",
       "0            Москва  5333\n",
       "1   Санкт-Петербург  2851\n",
       "2             Минск  2112\n",
       "3       Новосибирск  2006\n",
       "4            Алматы  1892\n",
       "5      Екатеринбург  1698\n",
       "6   Нижний Новгород  1670\n",
       "7            Казань  1415\n",
       "8         Краснодар  1301\n",
       "9            Самара  1144\n",
       "10   Ростов-на-Дону  1131\n",
       "11          Воронеж  1063\n",
       "12          Ташкент   851\n",
       "13       Красноярск   847\n",
       "14       Нур-Султан   840\n",
       "15        Челябинск   786\n",
       "16            Пермь   771\n",
       "17              Уфа   767\n",
       "18            Томск   692\n",
       "19             Омск   617"
      ]
     },
     "execution_count": 360,
     "metadata": {},
     "output_type": "execute_result"
    }
   ],
   "source": [
    "# результат запроса\n",
    "answer_4_1 = pd.read_sql_query(query_4_1, connection)\n",
    "print(\"4.1 Количество доступных вакансий в каждом регионе:\")\n",
    "answer_4_1.head(20)"
   ]
  },
  {
   "cell_type": "markdown",
   "id": "4266f0b6-1646-492a-88b4-2f6a46502135",
   "metadata": {
    "id": "4266f0b6-1646-492a-88b4-2f6a46502135"
   },
   "source": [
    "2. Напишите запрос, чтобы определить у какого количества вакансий заполнено хотя бы одно из двух полей с зарплатой."
   ]
  },
  {
   "cell_type": "code",
   "execution_count": 361,
   "id": "0c44b350-72eb-4d65-8b54-a1fc449ba9fd",
   "metadata": {
    "id": "0c44b350-72eb-4d65-8b54-a1fc449ba9fd"
   },
   "outputs": [],
   "source": [
    "# текст запроса\n",
    "query_4_2 = '''\n",
    "select\n",
    "    count(*) as cnt\n",
    "from vacancies v\n",
    "where\n",
    "    v.salary_from is not null or v.salary_to is not null\n",
    "'''"
   ]
  },
  {
   "cell_type": "code",
   "execution_count": 362,
   "id": "rhvwaMDkoWTi",
   "metadata": {
    "id": "rhvwaMDkoWTi"
   },
   "outputs": [
    {
     "name": "stdout",
     "output_type": "stream",
     "text": [
      "4.2 Количество вакансий с информацией о зарплате, либо начальной, либо максимальной, либо обеих: 24073\n"
     ]
    }
   ],
   "source": [
    "# результат запроса\n",
    "answer_4_2 = pd.read_sql_query(query_4_2, connection)\n",
    "print(f\"4.2 Количество вакансий с информацией о зарплате, либо начальной, либо максимальной, либо обеих: {answer_4_2['cnt'][0]}\")"
   ]
  },
  {
   "cell_type": "markdown",
   "id": "635c4d5d-f323-4c66-b428-50a088120aa0",
   "metadata": {
    "id": "635c4d5d-f323-4c66-b428-50a088120aa0"
   },
   "source": [
    "3. Найдите средние значения для нижней и верхней границы зарплатной вилки. Округлите значения до целого."
   ]
  },
  {
   "cell_type": "code",
   "execution_count": 363,
   "id": "603cdbe4-0ec3-4106-8eaf-c73fcdd29165",
   "metadata": {
    "id": "603cdbe4-0ec3-4106-8eaf-c73fcdd29165"
   },
   "outputs": [],
   "source": [
    "# текст запроса\n",
    "query_4_3 = '''\n",
    "select\n",
    "    round(avg(v.salary_from), 0) as avg_starting_salary,\n",
    "    round(avg(v.salary_to), 0) as avg_top_salary\n",
    "from vacancies v\n",
    "where v.salary_from is not null or v.salary_to is not null\n",
    "'''"
   ]
  },
  {
   "cell_type": "code",
   "execution_count": 364,
   "id": "pswpAb66ovZZ",
   "metadata": {
    "id": "pswpAb66ovZZ"
   },
   "outputs": [
    {
     "name": "stdout",
     "output_type": "stream",
     "text": [
      "4.3 Средние начальная и верхняя зарплаты для доступных вакансий:\n"
     ]
    },
    {
     "data": {
      "text/html": [
       "<div>\n",
       "<style scoped>\n",
       "    .dataframe tbody tr th:only-of-type {\n",
       "        vertical-align: middle;\n",
       "    }\n",
       "\n",
       "    .dataframe tbody tr th {\n",
       "        vertical-align: top;\n",
       "    }\n",
       "\n",
       "    .dataframe thead th {\n",
       "        text-align: right;\n",
       "    }\n",
       "</style>\n",
       "<table border=\"1\" class=\"dataframe\">\n",
       "  <thead>\n",
       "    <tr style=\"text-align: right;\">\n",
       "      <th></th>\n",
       "      <th>avg_starting_salary</th>\n",
       "      <th>avg_top_salary</th>\n",
       "    </tr>\n",
       "  </thead>\n",
       "  <tbody>\n",
       "    <tr>\n",
       "      <th>0</th>\n",
       "      <td>71065.0</td>\n",
       "      <td>110537.0</td>\n",
       "    </tr>\n",
       "  </tbody>\n",
       "</table>\n",
       "</div>"
      ],
      "text/plain": [
       "   avg_starting_salary  avg_top_salary\n",
       "0              71065.0        110537.0"
      ]
     },
     "execution_count": 364,
     "metadata": {},
     "output_type": "execute_result"
    }
   ],
   "source": [
    "# результат запроса\n",
    "answer_4_3 = pd.read_sql_query(query_4_3, connection)\n",
    "print('4.3 Средние начальная и верхняя зарплаты для доступных вакансий:')\n",
    "answer_4_3"
   ]
  },
  {
   "cell_type": "markdown",
   "id": "f3fdaec9-5fd3-4260-9cf5-1d7406b628a5",
   "metadata": {
    "id": "f3fdaec9-5fd3-4260-9cf5-1d7406b628a5"
   },
   "source": [
    "4. Напишите запрос, который выведет количество вакансий для каждого сочетания типа рабочего графика (schedule) и типа трудоустройства (employment), используемого в вакансиях. Результат отсортируйте по убыванию количества.\n"
   ]
  },
  {
   "cell_type": "code",
   "execution_count": 365,
   "id": "1ea710ec-871b-431e-9462-c7d0fd87011b",
   "metadata": {
    "id": "1ea710ec-871b-431e-9462-c7d0fd87011b"
   },
   "outputs": [],
   "source": [
    "# текст запроса\n",
    "query_4_4 = '''\n",
    "select\n",
    "    v.schedule as work_schedule,\n",
    "    v.employment as employment_type,\n",
    "    count(v.employment) cnt\n",
    "\n",
    "from vacancies v\n",
    "group by v.schedule, v.employment\n",
    "order by cnt desc\n",
    "'''"
   ]
  },
  {
   "cell_type": "code",
   "execution_count": 366,
   "id": "lGUVqavdo4JQ",
   "metadata": {
    "id": "lGUVqavdo4JQ"
   },
   "outputs": [
    {
     "name": "stdout",
     "output_type": "stream",
     "text": [
      "4.4 Количество доступных вакансий для каждой комбинации графика работы и типа занятости:\n"
     ]
    },
    {
     "data": {
      "text/html": [
       "<div>\n",
       "<style scoped>\n",
       "    .dataframe tbody tr th:only-of-type {\n",
       "        vertical-align: middle;\n",
       "    }\n",
       "\n",
       "    .dataframe tbody tr th {\n",
       "        vertical-align: top;\n",
       "    }\n",
       "\n",
       "    .dataframe thead th {\n",
       "        text-align: right;\n",
       "    }\n",
       "</style>\n",
       "<table border=\"1\" class=\"dataframe\">\n",
       "  <thead>\n",
       "    <tr style=\"text-align: right;\">\n",
       "      <th></th>\n",
       "      <th>work_schedule</th>\n",
       "      <th>employment_type</th>\n",
       "      <th>cnt</th>\n",
       "    </tr>\n",
       "  </thead>\n",
       "  <tbody>\n",
       "    <tr>\n",
       "      <th>0</th>\n",
       "      <td>Полный день</td>\n",
       "      <td>Полная занятость</td>\n",
       "      <td>35367</td>\n",
       "    </tr>\n",
       "    <tr>\n",
       "      <th>1</th>\n",
       "      <td>Удаленная работа</td>\n",
       "      <td>Полная занятость</td>\n",
       "      <td>7802</td>\n",
       "    </tr>\n",
       "    <tr>\n",
       "      <th>2</th>\n",
       "      <td>Гибкий график</td>\n",
       "      <td>Полная занятость</td>\n",
       "      <td>1593</td>\n",
       "    </tr>\n",
       "    <tr>\n",
       "      <th>3</th>\n",
       "      <td>Удаленная работа</td>\n",
       "      <td>Частичная занятость</td>\n",
       "      <td>1312</td>\n",
       "    </tr>\n",
       "    <tr>\n",
       "      <th>4</th>\n",
       "      <td>Сменный график</td>\n",
       "      <td>Полная занятость</td>\n",
       "      <td>940</td>\n",
       "    </tr>\n",
       "    <tr>\n",
       "      <th>5</th>\n",
       "      <td>Полный день</td>\n",
       "      <td>Стажировка</td>\n",
       "      <td>569</td>\n",
       "    </tr>\n",
       "    <tr>\n",
       "      <th>6</th>\n",
       "      <td>Вахтовый метод</td>\n",
       "      <td>Полная занятость</td>\n",
       "      <td>367</td>\n",
       "    </tr>\n",
       "    <tr>\n",
       "      <th>7</th>\n",
       "      <td>Полный день</td>\n",
       "      <td>Частичная занятость</td>\n",
       "      <td>347</td>\n",
       "    </tr>\n",
       "    <tr>\n",
       "      <th>8</th>\n",
       "      <td>Гибкий график</td>\n",
       "      <td>Частичная занятость</td>\n",
       "      <td>312</td>\n",
       "    </tr>\n",
       "    <tr>\n",
       "      <th>9</th>\n",
       "      <td>Полный день</td>\n",
       "      <td>Проектная работа</td>\n",
       "      <td>141</td>\n",
       "    </tr>\n",
       "    <tr>\n",
       "      <th>10</th>\n",
       "      <td>Удаленная работа</td>\n",
       "      <td>Проектная работа</td>\n",
       "      <td>133</td>\n",
       "    </tr>\n",
       "    <tr>\n",
       "      <th>11</th>\n",
       "      <td>Гибкий график</td>\n",
       "      <td>Стажировка</td>\n",
       "      <td>116</td>\n",
       "    </tr>\n",
       "    <tr>\n",
       "      <th>12</th>\n",
       "      <td>Сменный график</td>\n",
       "      <td>Частичная занятость</td>\n",
       "      <td>101</td>\n",
       "    </tr>\n",
       "    <tr>\n",
       "      <th>13</th>\n",
       "      <td>Удаленная работа</td>\n",
       "      <td>Стажировка</td>\n",
       "      <td>64</td>\n",
       "    </tr>\n",
       "    <tr>\n",
       "      <th>14</th>\n",
       "      <td>Гибкий график</td>\n",
       "      <td>Проектная работа</td>\n",
       "      <td>18</td>\n",
       "    </tr>\n",
       "    <tr>\n",
       "      <th>15</th>\n",
       "      <td>Сменный график</td>\n",
       "      <td>Стажировка</td>\n",
       "      <td>12</td>\n",
       "    </tr>\n",
       "    <tr>\n",
       "      <th>16</th>\n",
       "      <td>Вахтовый метод</td>\n",
       "      <td>Проектная работа</td>\n",
       "      <td>2</td>\n",
       "    </tr>\n",
       "    <tr>\n",
       "      <th>17</th>\n",
       "      <td>Сменный график</td>\n",
       "      <td>Проектная работа</td>\n",
       "      <td>1</td>\n",
       "    </tr>\n",
       "  </tbody>\n",
       "</table>\n",
       "</div>"
      ],
      "text/plain": [
       "       work_schedule      employment_type    cnt\n",
       "0        Полный день     Полная занятость  35367\n",
       "1   Удаленная работа     Полная занятость   7802\n",
       "2      Гибкий график     Полная занятость   1593\n",
       "3   Удаленная работа  Частичная занятость   1312\n",
       "4     Сменный график     Полная занятость    940\n",
       "5        Полный день           Стажировка    569\n",
       "6     Вахтовый метод     Полная занятость    367\n",
       "7        Полный день  Частичная занятость    347\n",
       "8      Гибкий график  Частичная занятость    312\n",
       "9        Полный день     Проектная работа    141\n",
       "10  Удаленная работа     Проектная работа    133\n",
       "11     Гибкий график           Стажировка    116\n",
       "12    Сменный график  Частичная занятость    101\n",
       "13  Удаленная работа           Стажировка     64\n",
       "14     Гибкий график     Проектная работа     18\n",
       "15    Сменный график           Стажировка     12\n",
       "16    Вахтовый метод     Проектная работа      2\n",
       "17    Сменный график     Проектная работа      1"
      ]
     },
     "execution_count": 366,
     "metadata": {},
     "output_type": "execute_result"
    }
   ],
   "source": [
    "# результат запроса\n",
    "answer_4_4 = pd.read_sql_query(query_4_4, connection)\n",
    "print('4.4 Количество доступных вакансий для каждой комбинации графика работы и типа занятости:')\n",
    "answer_4_4"
   ]
  },
  {
   "cell_type": "markdown",
   "id": "0136ffee-0ead-4a6b-b608-61d1c753a438",
   "metadata": {
    "id": "0136ffee-0ead-4a6b-b608-61d1c753a438"
   },
   "source": [
    "5. Напишите запрос, выводящий значения поля Требуемый опыт работы (experience) в порядке возрастания количества вакансий, в которых указан данный вариант опыта. "
   ]
  },
  {
   "cell_type": "code",
   "execution_count": 367,
   "id": "5b3a8e79-f7ab-4008-b767-12aea3a205ea",
   "metadata": {
    "id": "5b3a8e79-f7ab-4008-b767-12aea3a205ea"
   },
   "outputs": [],
   "source": [
    "# текст запроса\n",
    "query_4_5 = '''\n",
    " select\n",
    "    v.experience,\n",
    "    count(*) cnt\n",
    "\n",
    "from vacancies v\n",
    "group by v.experience\n",
    "order by cnt \n",
    "'''"
   ]
  },
  {
   "cell_type": "code",
   "execution_count": 368,
   "id": "3Is64Y-hpDpq",
   "metadata": {
    "id": "3Is64Y-hpDpq"
   },
   "outputs": [
    {
     "name": "stdout",
     "output_type": "stream",
     "text": [
      "4.5 Количество доступных вакансий, сгруппированных по требуемому уровню опыта:\n"
     ]
    },
    {
     "data": {
      "text/html": [
       "<div>\n",
       "<style scoped>\n",
       "    .dataframe tbody tr th:only-of-type {\n",
       "        vertical-align: middle;\n",
       "    }\n",
       "\n",
       "    .dataframe tbody tr th {\n",
       "        vertical-align: top;\n",
       "    }\n",
       "\n",
       "    .dataframe thead th {\n",
       "        text-align: right;\n",
       "    }\n",
       "</style>\n",
       "<table border=\"1\" class=\"dataframe\">\n",
       "  <thead>\n",
       "    <tr style=\"text-align: right;\">\n",
       "      <th></th>\n",
       "      <th>experience</th>\n",
       "      <th>cnt</th>\n",
       "    </tr>\n",
       "  </thead>\n",
       "  <tbody>\n",
       "    <tr>\n",
       "      <th>0</th>\n",
       "      <td>Более 6 лет</td>\n",
       "      <td>1337</td>\n",
       "    </tr>\n",
       "    <tr>\n",
       "      <th>1</th>\n",
       "      <td>Нет опыта</td>\n",
       "      <td>7197</td>\n",
       "    </tr>\n",
       "    <tr>\n",
       "      <th>2</th>\n",
       "      <td>От 3 до 6 лет</td>\n",
       "      <td>14511</td>\n",
       "    </tr>\n",
       "    <tr>\n",
       "      <th>3</th>\n",
       "      <td>От 1 года до 3 лет</td>\n",
       "      <td>26152</td>\n",
       "    </tr>\n",
       "  </tbody>\n",
       "</table>\n",
       "</div>"
      ],
      "text/plain": [
       "           experience    cnt\n",
       "0         Более 6 лет   1337\n",
       "1           Нет опыта   7197\n",
       "2       От 3 до 6 лет  14511\n",
       "3  От 1 года до 3 лет  26152"
      ]
     },
     "execution_count": 368,
     "metadata": {},
     "output_type": "execute_result"
    }
   ],
   "source": [
    "# результат запроса\n",
    "answer_4_5 = pd.read_sql_query(query_4_5, connection)\n",
    "print('4.5 Количество доступных вакансий, сгруппированных по требуемому уровню опыта:')\n",
    "answer_4_5"
   ]
  },
  {
   "cell_type": "markdown",
   "id": "oq2b7n1QpIka",
   "metadata": {
    "id": "oq2b7n1QpIka"
   },
   "source": [
    "***"
   ]
  },
  {
   "cell_type": "markdown",
   "id": "85680a78-e994-404d-bcdd-ce37eb28d770",
   "metadata": {
    "id": "e91f87ed-e25c-4f96-9f92-b642e8c0b4fa",
    "jp-MarkdownHeadingCollapsed": true,
    "tags": []
   },
   "source": [
    "### выводы по детальному анализу вакансий\n",
    "### Географическое Распределение (Таблица 4.1)\n",
    "\n",
    "- **Крупные Города**: Большинство рабочих мест сосредоточено в Москве и Санкт-Петербурге.\n",
    "- **Развивающиеся Рынки**: Меньшие города, такие как Новосибирск и Алматы, набирают обороты.\n",
    "\n",
    "### Информация о Зарплатах (Таблица 4.3)\n",
    "\n",
    "- **Средние Зарплаты**: Средняя начальная зарплата составляет около 71,065, а средняя верхняя зарплата — около 110,537. Это дает представление о том, какой диапазон зарплат ожидать.\n",
    "\n",
    "### График Работы и Тип Занятости (Таблица 4.4)\n",
    "\n",
    "- **Полная Занятость**: Большинство рабочих мест предполагают полную занятость и работу на полный рабочий день.\n",
    "- **Удаленная Работа**: Количество удаленных рабочих мест также значительно, особенно для полной занятости.\n",
    "\n",
    "### Уровень Опыта (Таблица 4.5)\n",
    "\n",
    "- **Для Новичков**: Многие рабочие места открыты для кандидатов с опытом работы от 1 до 3 лет, затем идут те, которые требуют от 3 до 6 лет опыта.\n",
    "- **Дружелюбны к Новичкам**: Достаточно большое количество рабочих мест также принимают кандидатов без опыта работы.\n",
    "\n",
    "### Общие Выводы:\n",
    "\n",
    "1. **Местоположение Имеет Значение**: Если вы ищете больше возможностей для работы, крупные города предлагают больше вариантов.\n",
    "2. **Ожидания по Зарплате**: Таблица средних зарплат может служить полезным ориентиром для вас.\n",
    "3. **Гибкость в Работе**: Достаточно большое количество рабочих мест предлагает удаленную работу и гибкий график, что может быть полезно, если вы хотите лучше совмещать работу и личную жизнь.\n",
    "4. **Дружелюбны к Новичкам**: Рынок приветлив к людям с меньшим опытом, что отлично для тех, кто переходит в другую сферу или только начинает.\n",
    "\n",
    "\n",
    "### English:\n",
    "### Geographical Distribution (Table 4.1)\n",
    "\n",
    "- **Major Cities**: The majority of jobs are concentrated in Moscow and St. Petersburg.\n",
    "- **Emerging Markets**: Smaller cities like Novosibirsk and Almaty are catching up.\n",
    "\n",
    "### Salary Insights (Table 4.3)\n",
    "\n",
    "- **Average Salaries**: The average starting salary is about 71,065 and the average top salary is around 110,537. This gives you an idea of the salary range to expect.\n",
    "\n",
    "### Work Schedule and Employment Type (Table 4.4)\n",
    "\n",
    "- **Full-Time Jobs**: Most jobs are full-time and require a full-day commitment.\n",
    "- **Remote Work**: The number of remote jobs is also significant, especially for full-time positions.\n",
    "\n",
    "### Experience Level (Table 4.5)\n",
    "\n",
    "- **Entry-Level**: Many jobs are open to candidates with 1-3 years of experience, followed by those requiring 3-6 years.\n",
    "- **Beginner-Friendly**: A good chunk of jobs also accept candidates with no experience.\n",
    "\n",
    "### Overall Conclusions:\n",
    "\n",
    "1. **Location Matters**: If you're looking for more job opportunities, bigger cities have more to offer.\n",
    "2. **Salary Expectations**: The average salaries table can be a useful benchmark for you.\n",
    "3. **Flexibility in Work**: A fair number of jobs offer remote work and flexible schedules, which could be beneficial if you want a better work-life balance.\n",
    "4. **Entry-Level Friendly**: The market is welcoming to people with less experience, which is great for someone who's switching fields or just starting."
   ]
  },
  {
   "cell_type": "markdown",
   "id": "7ea20ab6-04a7-40a0-adec-443a0e5a42c3",
   "metadata": {
    "id": "7ea20ab6-04a7-40a0-adec-443a0e5a42c3",
    "tags": []
   },
   "source": [
    "# Юнит 5. Анализ работодателей"
   ]
  },
  {
   "cell_type": "markdown",
   "id": "968aed80-74ef-4ffb-b5bf-c65b84e9caea",
   "metadata": {
    "id": "968aed80-74ef-4ffb-b5bf-c65b84e9caea"
   },
   "source": [
    "1. Напишите запрос, который позволит узнать, какие работодатели находятся на первом и пятом месте по количеству вакансий."
   ]
  },
  {
   "cell_type": "code",
   "execution_count": 369,
   "id": "f2d62796-d400-4ec1-a675-88112739a50e",
   "metadata": {
    "id": "f2d62796-d400-4ec1-a675-88112739a50e"
   },
   "outputs": [],
   "source": [
    "# текст запроса\n",
    "query_5_1 = '''\n",
    "select \n",
    "    e.name as employer_name,\n",
    "    count(distinct v.id) as vacancies_cnt\n",
    "\n",
    "from employers e\n",
    "left join vacancies v on v.employer_id = e.id\n",
    "group by employer_name\n",
    "order by 2 desc\n",
    "limit 5\n",
    "'''\n"
   ]
  },
  {
   "cell_type": "code",
   "execution_count": 370,
   "id": "64tOMkAxqkQk",
   "metadata": {
    "id": "64tOMkAxqkQk"
   },
   "outputs": [
    {
     "name": "stdout",
     "output_type": "stream",
     "text": [
      "5.1 Топ-5 работодателей по количеству доступных вакансий:\n"
     ]
    },
    {
     "data": {
      "text/html": [
       "<div>\n",
       "<style scoped>\n",
       "    .dataframe tbody tr th:only-of-type {\n",
       "        vertical-align: middle;\n",
       "    }\n",
       "\n",
       "    .dataframe tbody tr th {\n",
       "        vertical-align: top;\n",
       "    }\n",
       "\n",
       "    .dataframe thead th {\n",
       "        text-align: right;\n",
       "    }\n",
       "</style>\n",
       "<table border=\"1\" class=\"dataframe\">\n",
       "  <thead>\n",
       "    <tr style=\"text-align: right;\">\n",
       "      <th></th>\n",
       "      <th>employer_name</th>\n",
       "      <th>vacancies_cnt</th>\n",
       "    </tr>\n",
       "  </thead>\n",
       "  <tbody>\n",
       "    <tr>\n",
       "      <th>0</th>\n",
       "      <td>Яндекс</td>\n",
       "      <td>1933</td>\n",
       "    </tr>\n",
       "    <tr>\n",
       "      <th>1</th>\n",
       "      <td>Ростелеком</td>\n",
       "      <td>491</td>\n",
       "    </tr>\n",
       "    <tr>\n",
       "      <th>2</th>\n",
       "      <td>Тинькофф</td>\n",
       "      <td>444</td>\n",
       "    </tr>\n",
       "    <tr>\n",
       "      <th>3</th>\n",
       "      <td>СБЕР</td>\n",
       "      <td>428</td>\n",
       "    </tr>\n",
       "    <tr>\n",
       "      <th>4</th>\n",
       "      <td>Газпром нефть</td>\n",
       "      <td>331</td>\n",
       "    </tr>\n",
       "  </tbody>\n",
       "</table>\n",
       "</div>"
      ],
      "text/plain": [
       "   employer_name  vacancies_cnt\n",
       "0         Яндекс           1933\n",
       "1     Ростелеком            491\n",
       "2       Тинькофф            444\n",
       "3           СБЕР            428\n",
       "4  Газпром нефть            331"
      ]
     },
     "execution_count": 370,
     "metadata": {},
     "output_type": "execute_result"
    }
   ],
   "source": [
    "# результат запроса\n",
    "answer_5_1 = pd.read_sql_query(query_5_1, connection)\n",
    "print('5.1 Топ-5 работодателей по количеству доступных вакансий:')\n",
    "answer_5_1"
   ]
  },
  {
   "cell_type": "markdown",
   "id": "68377cfc-b378-43dc-ab7d-1195abf2c515",
   "metadata": {
    "id": "68377cfc-b378-43dc-ab7d-1195abf2c515"
   },
   "source": [
    "2. Напишите запрос, который для каждого региона выведет количество работодателей и вакансий в нём.\n",
    "Среди регионов, в которых нет вакансий, найдите тот, в котором наибольшее количество работодателей.\n"
   ]
  },
  {
   "cell_type": "code",
   "execution_count": 371,
   "id": "dd7df27a-e3e8-412e-a21a-5d389b71e891",
   "metadata": {
    "id": "dd7df27a-e3e8-412e-a21a-5d389b71e891"
   },
   "outputs": [],
   "source": [
    "# текст запроса\n",
    "query_5_2 = '''\n",
    "select \n",
    "    a.name as area_name,\n",
    "    count(e.id) as number_of_employers,\n",
    "    count(v.id) as number_of_job_vacancies\n",
    "from areas a \n",
    "left join employers e on e.area = a.id\n",
    "left join vacancies v on v.area_id = a.id\n",
    "where v.id is null\n",
    "group by area_name\n",
    "order by number_of_employers desc\n",
    "limit 1\n",
    "'''"
   ]
  },
  {
   "cell_type": "code",
   "execution_count": 372,
   "id": "x1ikWbydrbf6",
   "metadata": {
    "id": "x1ikWbydrbf6"
   },
   "outputs": [
    {
     "name": "stdout",
     "output_type": "stream",
     "text": [
      "5.2 Регион с наибольшим числом зарегистрированных работодателей, у которых нет ни одной открытой вакансии:\n"
     ]
    },
    {
     "data": {
      "text/html": [
       "<div>\n",
       "<style scoped>\n",
       "    .dataframe tbody tr th:only-of-type {\n",
       "        vertical-align: middle;\n",
       "    }\n",
       "\n",
       "    .dataframe tbody tr th {\n",
       "        vertical-align: top;\n",
       "    }\n",
       "\n",
       "    .dataframe thead th {\n",
       "        text-align: right;\n",
       "    }\n",
       "</style>\n",
       "<table border=\"1\" class=\"dataframe\">\n",
       "  <thead>\n",
       "    <tr style=\"text-align: right;\">\n",
       "      <th></th>\n",
       "      <th>area_name</th>\n",
       "      <th>number_of_employers</th>\n",
       "      <th>number_of_job_vacancies</th>\n",
       "    </tr>\n",
       "  </thead>\n",
       "  <tbody>\n",
       "    <tr>\n",
       "      <th>0</th>\n",
       "      <td>Россия</td>\n",
       "      <td>410</td>\n",
       "      <td>0</td>\n",
       "    </tr>\n",
       "  </tbody>\n",
       "</table>\n",
       "</div>"
      ],
      "text/plain": [
       "  area_name  number_of_employers  number_of_job_vacancies\n",
       "0    Россия                  410                        0"
      ]
     },
     "execution_count": 372,
     "metadata": {},
     "output_type": "execute_result"
    }
   ],
   "source": [
    "# результат запроса\n",
    "answer_5_2 = pd.read_sql_query(query_5_2, connection)\n",
    "print(f\"5.2 Регион с наибольшим числом зарегистрированных работодателей, у которых нет ни одной открытой вакансии:\")\n",
    "answer_5_2"
   ]
  },
  {
   "cell_type": "markdown",
   "id": "f2fe0acb-ab1a-4e15-9326-2560e22d73c1",
   "metadata": {
    "id": "f2fe0acb-ab1a-4e15-9326-2560e22d73c1"
   },
   "source": [
    "3. Для каждого работодателя посчитайте количество регионов, в которых он публикует свои вакансии. Отсортируйте результат по убыванию количества.\n"
   ]
  },
  {
   "cell_type": "code",
   "execution_count": 373,
   "id": "6271f8ad-bd2e-4196-ae4a-5b39c4c1010e",
   "metadata": {
    "id": "6271f8ad-bd2e-4196-ae4a-5b39c4c1010e"
   },
   "outputs": [],
   "source": [
    "# текст запроса\n",
    "query_5_3 = '''\n",
    "select\n",
    "    e.name as employer_name,\n",
    "    count(distinct v.area_id) as number_of_areas\n",
    "from employers e\n",
    "left join vacancies v on v.employer_id = e.id\n",
    "left join areas a on a.id = v.area_id\n",
    "group by employer_name\n",
    "order by 2 desc\n",
    "limit 10\n",
    "'''"
   ]
  },
  {
   "cell_type": "code",
   "execution_count": 374,
   "id": "1EIvX3HasH4F",
   "metadata": {
    "id": "1EIvX3HasH4F"
   },
   "outputs": [
    {
     "name": "stdout",
     "output_type": "stream",
     "text": [
      "5.3 Количество географических областей, в которых у каждого работодателя есть открытые вакансии:\n"
     ]
    },
    {
     "data": {
      "text/html": [
       "<div>\n",
       "<style scoped>\n",
       "    .dataframe tbody tr th:only-of-type {\n",
       "        vertical-align: middle;\n",
       "    }\n",
       "\n",
       "    .dataframe tbody tr th {\n",
       "        vertical-align: top;\n",
       "    }\n",
       "\n",
       "    .dataframe thead th {\n",
       "        text-align: right;\n",
       "    }\n",
       "</style>\n",
       "<table border=\"1\" class=\"dataframe\">\n",
       "  <thead>\n",
       "    <tr style=\"text-align: right;\">\n",
       "      <th></th>\n",
       "      <th>employer_name</th>\n",
       "      <th>number_of_areas</th>\n",
       "    </tr>\n",
       "  </thead>\n",
       "  <tbody>\n",
       "    <tr>\n",
       "      <th>0</th>\n",
       "      <td>Яндекс</td>\n",
       "      <td>181</td>\n",
       "    </tr>\n",
       "    <tr>\n",
       "      <th>1</th>\n",
       "      <td>Ростелеком</td>\n",
       "      <td>152</td>\n",
       "    </tr>\n",
       "    <tr>\n",
       "      <th>2</th>\n",
       "      <td>Спецремонт</td>\n",
       "      <td>116</td>\n",
       "    </tr>\n",
       "    <tr>\n",
       "      <th>3</th>\n",
       "      <td>Поляков Денис Иванович</td>\n",
       "      <td>88</td>\n",
       "    </tr>\n",
       "    <tr>\n",
       "      <th>4</th>\n",
       "      <td>ООО ЕФИН</td>\n",
       "      <td>71</td>\n",
       "    </tr>\n",
       "    <tr>\n",
       "      <th>5</th>\n",
       "      <td>Совкомбанк</td>\n",
       "      <td>63</td>\n",
       "    </tr>\n",
       "    <tr>\n",
       "      <th>6</th>\n",
       "      <td>МТС</td>\n",
       "      <td>55</td>\n",
       "    </tr>\n",
       "    <tr>\n",
       "      <th>7</th>\n",
       "      <td>ЭФКО, Управляющая компания</td>\n",
       "      <td>49</td>\n",
       "    </tr>\n",
       "    <tr>\n",
       "      <th>8</th>\n",
       "      <td>Почта России</td>\n",
       "      <td>48</td>\n",
       "    </tr>\n",
       "    <tr>\n",
       "      <th>9</th>\n",
       "      <td>КРОН</td>\n",
       "      <td>48</td>\n",
       "    </tr>\n",
       "  </tbody>\n",
       "</table>\n",
       "</div>"
      ],
      "text/plain": [
       "                employer_name  number_of_areas\n",
       "0                      Яндекс              181\n",
       "1                  Ростелеком              152\n",
       "2                  Спецремонт              116\n",
       "3      Поляков Денис Иванович               88\n",
       "4                   ООО ЕФИН                71\n",
       "5                  Совкомбанк               63\n",
       "6                         МТС               55\n",
       "7  ЭФКО, Управляющая компания               49\n",
       "8                Почта России               48\n",
       "9                        КРОН               48"
      ]
     },
     "execution_count": 374,
     "metadata": {},
     "output_type": "execute_result"
    }
   ],
   "source": [
    "# результат запроса\n",
    "answer_5_3 = pd.read_sql_query(query_5_3, connection)\n",
    "print(\"5.3 Количество географических областей, в которых у каждого работодателя есть открытые вакансии:\")\n",
    "answer_5_3"
   ]
  },
  {
   "cell_type": "markdown",
   "id": "eab2206d-d95b-468b-8e5f-34381abf0ce7",
   "metadata": {
    "id": "eab2206d-d95b-468b-8e5f-34381abf0ce7"
   },
   "source": [
    "4. Напишите запрос для подсчёта количества работодателей, у которых не указана сфера деятельности. "
   ]
  },
  {
   "cell_type": "code",
   "execution_count": 375,
   "id": "80defb23-bfb1-4a18-8be6-bf36aa7165d5",
   "metadata": {
    "id": "80defb23-bfb1-4a18-8be6-bf36aa7165d5"
   },
   "outputs": [],
   "source": [
    "# текст запроса\n",
    "query_5_4 = '''\n",
    "select \n",
    "    count(*) as cnt\n",
    "from employers e\n",
    "left join employers_industries ei on ei.employer_id = e.id\n",
    "left join industries i on i.id = ei.industry_id\n",
    "where i.name is null\n",
    "'''"
   ]
  },
  {
   "cell_type": "code",
   "execution_count": 376,
   "id": "Dp_yCx6ysQSu",
   "metadata": {
    "id": "Dp_yCx6ysQSu"
   },
   "outputs": [
    {
     "name": "stdout",
     "output_type": "stream",
     "text": [
      "5.4 Количество работодателей, которые не указали отрасль, в которой они работают: 8419\n"
     ]
    }
   ],
   "source": [
    "# результат запроса\n",
    "answer_5_4 = pd.read_sql_query(query_5_4, connection)\n",
    "print(f\"5.4 Количество работодателей, которые не указали отрасль, в которой они работают: {answer_5_4['cnt'][0]}\")"
   ]
  },
  {
   "cell_type": "markdown",
   "id": "0112af31-f6b0-4e3b-82ab-71296e752e5e",
   "metadata": {
    "id": "0112af31-f6b0-4e3b-82ab-71296e752e5e"
   },
   "source": [
    "5. Напишите запрос, чтобы узнать название компании, находящейся на третьем месте в алфавитном списке (по названию) компаний, у которых указано четыре сферы деятельности. "
   ]
  },
  {
   "cell_type": "code",
   "execution_count": 377,
   "id": "973b0cfc-a972-470a-8b4a-68744ef220c4",
   "metadata": {
    "id": "973b0cfc-a972-470a-8b4a-68744ef220c4"
   },
   "outputs": [],
   "source": [
    "# текст запроса\n",
    "query_5_5 = '''\n",
    "select \n",
    "    e.name as employer_name,\n",
    "    count(distinct i.name) as num_of_industries\n",
    "from employers e\n",
    "left join employers_industries ei on ei.employer_id = e.id\n",
    "left join industries i on i.id = ei.industry_id\n",
    "group by e.name\n",
    "having count(distinct i.name) = 4\n",
    "order by 1\n",
    "offset 2 limit 1\n",
    "'''"
   ]
  },
  {
   "cell_type": "code",
   "execution_count": 378,
   "id": "xsPtpp8EsaED",
   "metadata": {
    "id": "xsPtpp8EsaED"
   },
   "outputs": [
    {
     "name": "stdout",
     "output_type": "stream",
     "text": [
      "5.5 Название компании, которое находится на третьем месте в алфавитном порядке среди компаний, работающих в 4 различных отраслях: 2ГИС\n"
     ]
    }
   ],
   "source": [
    "# результат запроса\n",
    "answer_5_5 = pd.read_sql_query(query_5_5, connection)\n",
    "print(f\"5.5 Название компании, которое находится на третьем месте в алфавитном порядке среди компаний, работающих в 4 различных отраслях: {answer_5_5['employer_name'][0]}\")"
   ]
  },
  {
   "cell_type": "markdown",
   "id": "3bfcfdaf-755d-4d2b-8ed8-326201dc07ab",
   "metadata": {
    "id": "3bfcfdaf-755d-4d2b-8ed8-326201dc07ab"
   },
   "source": [
    "6. С помощью запроса выясните, у какого количества работодателей в качестве сферы деятельности указана Разработка программного обеспечения.\n"
   ]
  },
  {
   "cell_type": "code",
   "execution_count": 379,
   "id": "ad3f270f-2991-47eb-929b-e8f88a55b0d1",
   "metadata": {
    "id": "ad3f270f-2991-47eb-929b-e8f88a55b0d1"
   },
   "outputs": [],
   "source": [
    "# текст запроса\n",
    "query_5_6 = '''\n",
    "select \n",
    "    i.name,\n",
    "    count(distinct e.employer_id) as cnt\n",
    "from industries i \n",
    "join employers_industries e on e.industry_id = i.id\n",
    "where i.name = 'Разработка программного обеспечения'\n",
    "group by i.name\n",
    "'''"
   ]
  },
  {
   "cell_type": "code",
   "execution_count": 380,
   "id": "H72qxWM0shPR",
   "metadata": {
    "id": "H72qxWM0shPR"
   },
   "outputs": [
    {
     "name": "stdout",
     "output_type": "stream",
     "text": [
      "5.6 Количество компаний, которые указали 'Разработка программного обеспечения' как отрасль, в которой они работают: 3553\n"
     ]
    }
   ],
   "source": [
    "# результат запроса\n",
    "answer_5_6 = pd.read_sql_query(query_5_6, connection)\n",
    "print(f\"5.6 Количество компаний, которые указали 'Разработка программного обеспечения' как отрасль, в которой они работают: {answer_5_6['cnt'][0]}\")"
   ]
  },
  {
   "cell_type": "markdown",
   "id": "7b02bb86-0546-40fb-94a4-242f050a5c57",
   "metadata": {
    "id": "7b02bb86-0546-40fb-94a4-242f050a5c57"
   },
   "source": [
    "7. Для компании «Яндекс» выведите список регионов-миллионников, в которых представлены вакансии компании, вместе с количеством вакансий в этих регионах. Также добавьте строку Total с общим количеством вакансий компании. Результат отсортируйте по возрастанию количества.\n",
    "\n",
    "Список городов-милионников надо взять [отсюда](https://ru.wikipedia.org/wiki/%D0%93%D0%BE%D1%80%D0%BE%D0%B4%D0%B0-%D0%BC%D0%B8%D0%BB%D0%BB%D0%B8%D0%BE%D0%BD%D0%B5%D1%80%D1%8B_%D0%A0%D0%BE%D1%81%D1%81%D0%B8%D0%B8). \n",
    "\n",
    "Если возникнут трудности с этим задание посмотрите материалы модуля  PYTHON-17. Как получать данные из веб-источников и API. "
   ]
  },
  {
   "cell_type": "code",
   "execution_count": 381,
   "id": "ZdfrL6gIs1Pn",
   "metadata": {
    "id": "ZdfrL6gIs1Pn"
   },
   "outputs": [],
   "source": [
    "# код для получения списка городов-милионников\n",
    "#quote_plus converts the readable url to the string that adheres URL encoding rules\n",
    "from urllib.parse import quote_plus\n",
    "\n",
    "#string to convert to URL encoding rules\n",
    "string_to_encode = 'Города-миллионеры_России'\n",
    "\n",
    "#converted string to URL encoding standards\n",
    "encoded_string = quote_plus(string_to_encode)\n",
    "\n",
    "\n",
    "url = f'https://ru.wikipedia.org/wiki/{encoded_string}'\n",
    "\n",
    "#read the tables from html\n",
    "tables = pd.read_html(url)\n",
    "\n",
    "#extract cities values from Table 1 that contains cities with over 1mil population and convert it to list data type\n",
    "cities = tables[1]['Город'].values.tolist()\n",
    "\n",
    "#convert list to tuple type\n",
    "cities = tuple(cities)\n"
   ]
  },
  {
   "cell_type": "code",
   "execution_count": 382,
   "id": "5a0e32a4-e68a-4365-8a39-2fe24c542c36",
   "metadata": {
    "id": "5a0e32a4-e68a-4365-8a39-2fe24c542c36"
   },
   "outputs": [],
   "source": [
    "# текст запроса\n",
    "query_5_7 = f'''\n",
    "(select \n",
    "    a.name as area_name,\n",
    "    count(v.id) as vacancies_cnt\n",
    "from employers e \n",
    "join vacancies v on v.employer_id = e.id\n",
    "join areas a on a.id = v.area_id\n",
    "where a.name in {cities} and e.name = 'Яндекс'\n",
    "group by area_name\n",
    "\n",
    ")\n",
    "\n",
    "union all \n",
    "\n",
    "select\n",
    "    'Total',\n",
    "    count(v.id)\n",
    "from employers e \n",
    "join vacancies v on v.employer_id = e.id\n",
    "join areas a on a.id = v.area_id\n",
    "where a.name in {cities} and e.name = 'Яндекс'\n",
    "\n",
    "order by 2\n",
    "'''\n"
   ]
  },
  {
   "cell_type": "code",
   "execution_count": 383,
   "id": "ttPhiO1rsvPq",
   "metadata": {
    "id": "ttPhiO1rsvPq"
   },
   "outputs": [
    {
     "name": "stdout",
     "output_type": "stream",
     "text": [
      "5.7 Количество строк в Таблице 5.7 равно: 17\n",
      "Количество доступных вакансий в компании 'Яндекс' в российских городах с населением более 1 миллиона:\n"
     ]
    },
    {
     "data": {
      "text/html": [
       "<div>\n",
       "<style scoped>\n",
       "    .dataframe tbody tr th:only-of-type {\n",
       "        vertical-align: middle;\n",
       "    }\n",
       "\n",
       "    .dataframe tbody tr th {\n",
       "        vertical-align: top;\n",
       "    }\n",
       "\n",
       "    .dataframe thead th {\n",
       "        text-align: right;\n",
       "    }\n",
       "</style>\n",
       "<table border=\"1\" class=\"dataframe\">\n",
       "  <thead>\n",
       "    <tr style=\"text-align: right;\">\n",
       "      <th></th>\n",
       "      <th>area_name</th>\n",
       "      <th>vacancies_cnt</th>\n",
       "    </tr>\n",
       "  </thead>\n",
       "  <tbody>\n",
       "    <tr>\n",
       "      <th>0</th>\n",
       "      <td>Омск</td>\n",
       "      <td>21</td>\n",
       "    </tr>\n",
       "    <tr>\n",
       "      <th>1</th>\n",
       "      <td>Челябинск</td>\n",
       "      <td>22</td>\n",
       "    </tr>\n",
       "    <tr>\n",
       "      <th>2</th>\n",
       "      <td>Красноярск</td>\n",
       "      <td>23</td>\n",
       "    </tr>\n",
       "    <tr>\n",
       "      <th>3</th>\n",
       "      <td>Волгоград</td>\n",
       "      <td>24</td>\n",
       "    </tr>\n",
       "    <tr>\n",
       "      <th>4</th>\n",
       "      <td>Пермь</td>\n",
       "      <td>25</td>\n",
       "    </tr>\n",
       "    <tr>\n",
       "      <th>5</th>\n",
       "      <td>Казань</td>\n",
       "      <td>25</td>\n",
       "    </tr>\n",
       "    <tr>\n",
       "      <th>6</th>\n",
       "      <td>Ростов-на-Дону</td>\n",
       "      <td>25</td>\n",
       "    </tr>\n",
       "    <tr>\n",
       "      <th>7</th>\n",
       "      <td>Уфа</td>\n",
       "      <td>26</td>\n",
       "    </tr>\n",
       "    <tr>\n",
       "      <th>8</th>\n",
       "      <td>Самара</td>\n",
       "      <td>26</td>\n",
       "    </tr>\n",
       "    <tr>\n",
       "      <th>9</th>\n",
       "      <td>Краснодар</td>\n",
       "      <td>30</td>\n",
       "    </tr>\n",
       "    <tr>\n",
       "      <th>10</th>\n",
       "      <td>Воронеж</td>\n",
       "      <td>32</td>\n",
       "    </tr>\n",
       "    <tr>\n",
       "      <th>11</th>\n",
       "      <td>Новосибирск</td>\n",
       "      <td>35</td>\n",
       "    </tr>\n",
       "    <tr>\n",
       "      <th>12</th>\n",
       "      <td>Нижний Новгород</td>\n",
       "      <td>36</td>\n",
       "    </tr>\n",
       "    <tr>\n",
       "      <th>13</th>\n",
       "      <td>Екатеринбург</td>\n",
       "      <td>39</td>\n",
       "    </tr>\n",
       "    <tr>\n",
       "      <th>14</th>\n",
       "      <td>Санкт-Петербург</td>\n",
       "      <td>42</td>\n",
       "    </tr>\n",
       "    <tr>\n",
       "      <th>15</th>\n",
       "      <td>Москва</td>\n",
       "      <td>54</td>\n",
       "    </tr>\n",
       "    <tr>\n",
       "      <th>16</th>\n",
       "      <td>Total</td>\n",
       "      <td>485</td>\n",
       "    </tr>\n",
       "  </tbody>\n",
       "</table>\n",
       "</div>"
      ],
      "text/plain": [
       "          area_name  vacancies_cnt\n",
       "0              Омск             21\n",
       "1         Челябинск             22\n",
       "2        Красноярск             23\n",
       "3         Волгоград             24\n",
       "4             Пермь             25\n",
       "5            Казань             25\n",
       "6    Ростов-на-Дону             25\n",
       "7               Уфа             26\n",
       "8            Самара             26\n",
       "9         Краснодар             30\n",
       "10          Воронеж             32\n",
       "11      Новосибирск             35\n",
       "12  Нижний Новгород             36\n",
       "13     Екатеринбург             39\n",
       "14  Санкт-Петербург             42\n",
       "15           Москва             54\n",
       "16            Total            485"
      ]
     },
     "execution_count": 383,
     "metadata": {},
     "output_type": "execute_result"
    }
   ],
   "source": [
    "# результат запроса\n",
    "answer_5_7 = pd.read_sql_query(query_5_7, connection)\n",
    "print(f\"5.7 Количество строк в Таблице 5.7 равно: {answer_5_7.shape[0]}\")\n",
    "print(\"Количество доступных вакансий в компании 'Яндекс' в российских городах с населением более 1 миллиона:\")\n",
    "answer_5_7"
   ]
  },
  {
   "cell_type": "markdown",
   "id": "04966e40-3bc3-4dc8-9ba2-e80580ce3abc",
   "metadata": {
    "id": "04966e40-3bc3-4dc8-9ba2-e80580ce3abc"
   },
   "source": [
    "***"
   ]
  },
  {
   "cell_type": "markdown",
   "id": "e91c293e-65c9-416d-9381-32e2f91f15e4",
   "metadata": {
    "id": "aGGyER-yt4SR"
   },
   "source": [
    "### выводы по анализу работодателей\n",
    "\n",
    "\n",
    "1. **Доминирующие работодатели**: Компании вроде Яндекса, Ростелекома и Тинькофф являются ключевыми игроками, причём Яндекс значительно опережает других по числу вакансий.\n",
    "2. **Незаполненные профили работодателей**: Значительное количество работодателей (8419) не указали отрасль, в которой они работают, что может говорить либо о недостатке деталей, либо о разнообразии отраслей, в которых они задействованы.\n",
    "3. **Географическое присутствие**: У Яндекса и Ростелекома широкий географический охват, с вакансиями в 181 и 152 регионах соответственно. Это отражает их размер и масштаб.\n",
    "4. **Фокус на отрасли**: С 3553 компаниями, зарегистрированными в отрасли 'Разработка программного обеспечения,' можно сказать, что это высококонкурентная отрасль.\n",
    "\n",
    "В целом, данные указывают на яркий и разнообразный рынок труда с возможностями в разных регионах и секторах. Однако они также указывают на некоторую концентрацию, с доминирующими игроками вроде Яндекса, занимающими значительную часть рынка.\n",
    "\n",
    "### English\n",
    "### Conclusions on Preliminary Data Analysis:\n",
    "\n",
    "1. **Dominant Employers**: Companies like Yandex, Rostelecom, and Tinkoff are major players, with Yandex far outpacing others in the number of job vacancies.\n",
    "2. **Unfilled Employer Profiles**: A significant number of employers (8419) have not indicated their industry, indicating either a lack of detail or a diverse set of industries they are involved in.\n",
    "3. **Geographic Presence**: Yandex and Rostelecom have a broader geographic reach, with vacancies in 181 and 152 areas respectively. This reflects their size and scope.\n",
    "4. **Industry Focus**: With 3553 companies listed under 'Software Development,' it seems to be a highly competitive industry.\n",
    "\n",
    "Overall, the data indicates a vibrant and diverse job market with opportunities across different regions and sectors. However, it also points to some concentration, with dominant players like Yandex taking up a significant portion of the market.\n"
   ]
  },
  {
   "cell_type": "markdown",
   "id": "b1ef156a-efcb-49ce-bb23-90763e7f35b2",
   "metadata": {
    "id": "b1ef156a-efcb-49ce-bb23-90763e7f35b2",
    "tags": []
   },
   "source": [
    "# Юнит 6. Предметный анализ"
   ]
  },
  {
   "cell_type": "markdown",
   "id": "b9cd50a0-992d-4988-8463-2b2b1c4629b4",
   "metadata": {
    "id": "b9cd50a0-992d-4988-8463-2b2b1c4629b4"
   },
   "source": [
    "1. Сколько вакансий имеет отношение к данным?\n",
    "\n",
    "Считаем, что вакансия имеет отношение к данным, если в её названии содержатся слова 'data' или 'данн'.\n",
    "\n",
    "*Подсказка: Обратите внимание, что названия вакансий могут быть написаны в любом регистре.* \n"
   ]
  },
  {
   "cell_type": "code",
   "execution_count": 384,
   "id": "54ab0e50-c0f1-47cc-a54b-bc5c8bc363f9",
   "metadata": {
    "id": "54ab0e50-c0f1-47cc-a54b-bc5c8bc363f9"
   },
   "outputs": [],
   "source": [
    "# текст запроса\n",
    "query_6_1 = '''\n",
    "select \n",
    "    count(*) as cnt\n",
    "from vacancies v\n",
    "where lower(v.name) like '%%data%%' or lower(v.name) like '%%данн%%'\n",
    "'''"
   ]
  },
  {
   "cell_type": "code",
   "execution_count": 385,
   "id": "9F1meAqsuUjd",
   "metadata": {
    "id": "9F1meAqsuUjd"
   },
   "outputs": [
    {
     "name": "stdout",
     "output_type": "stream",
     "text": [
      "6.1 Количество вакансий, в названии которых содержатся слова 'data' или 'данн': 1771\n"
     ]
    }
   ],
   "source": [
    "# результат запроса\n",
    "answer_6_1 = pd.read_sql_query(query_6_1, connection)\n",
    "print(f\"6.1 Количество вакансий, в названии которых содержатся слова 'data' или 'данн': {answer_6_1['cnt'][0]}\")"
   ]
  },
  {
   "cell_type": "markdown",
   "id": "4dea20cb-a36b-474a-a0b9-e08e8e3857a5",
   "metadata": {
    "id": "4dea20cb-a36b-474a-a0b9-e08e8e3857a5"
   },
   "source": [
    "2. Сколько есть подходящих вакансий для начинающего дата-сайентиста? \n",
    "Будем считать вакансиями для дата-сайентистов такие, в названии которых есть хотя бы одно из следующих сочетаний:\n",
    "* 'data scientist'\n",
    "* 'data science'\n",
    "* 'исследователь данных'\n",
    "* 'ML' (здесь не нужно брать вакансии по HTML)\n",
    "* 'machine learning'\n",
    "* 'машинн%обучен%'\n",
    "\n",
    "** В следующих заданиях мы продолжим работать с вакансиями по этому условию.*\n",
    "\n",
    "Считаем вакансиями для специалистов уровня Junior следующие:\n",
    "* в названии есть слово 'junior' *или*\n",
    "* требуемый опыт — Нет опыта *или*\n",
    "* тип трудоустройства — Стажировка.\n",
    " "
   ]
  },
  {
   "cell_type": "code",
   "execution_count": 386,
   "id": "9c61b3c0-bb66-46c9-ae1e-81d3f5752b4a",
   "metadata": {
    "id": "9c61b3c0-bb66-46c9-ae1e-81d3f5752b4a"
   },
   "outputs": [],
   "source": [
    "# текст запроса\n",
    "query_6_2 = '''\n",
    "select\n",
    "    count(*)\n",
    "from vacancies v\n",
    "where (\n",
    "    v.name ilike '%%data scientist%%' \n",
    "    or v.name ilike '%%data science%%'\n",
    "    or v.name ilike '%%исследователь данных%%'\n",
    "    or (v.name like '%%ML%%' and v.name not like '%%HTML%%')\n",
    "    or v.name ilike '%%machine learning%%'\n",
    "    or v.name ilike '%%машинн%%обучен%%')\n",
    "\n",
    "and\n",
    "\n",
    "(\n",
    "    v.name ilike '%%junior%%'\n",
    "    or v.experience ilike '%%Нет опыта%%'\n",
    "    or v.employment ilike '%%Стажировка%%'\n",
    ")\n",
    "'''"
   ]
  },
  {
   "cell_type": "code",
   "execution_count": 387,
   "id": "ZNM-LLYuu1dj",
   "metadata": {
    "id": "ZNM-LLYuu1dj"
   },
   "outputs": [
    {
     "name": "stdout",
     "output_type": "stream",
     "text": [
      "6.2 Количество доступных вакансий для Data Scientist на начальном уровне без опыта и на волонтерских позициях: 51\n"
     ]
    }
   ],
   "source": [
    "# результат запроса\n",
    "answer_6_2 = pd.read_sql_query(query_6_2, connection)\n",
    "print(f\"6.2 Количество доступных вакансий для Data Scientist на начальном уровне без опыта и на волонтерских позициях: {answer_6_2['count'][0]}\")\n"
   ]
  },
  {
   "cell_type": "markdown",
   "id": "eedceb80-c5ca-480e-b27a-278dfb8b4438",
   "metadata": {
    "id": "eedceb80-c5ca-480e-b27a-278dfb8b4438"
   },
   "source": [
    "3. Сколько есть вакансий для DS, в которых в качестве ключевого навыка указан SQL или postgres?\n",
    "\n",
    "** Критерии для отнесения вакансии к DS указаны в предыдущем задании.*"
   ]
  },
  {
   "cell_type": "code",
   "execution_count": 388,
   "id": "69621713-0cc5-4f1b-a1d7-bb144fa6148c",
   "metadata": {
    "id": "69621713-0cc5-4f1b-a1d7-bb144fa6148c"
   },
   "outputs": [],
   "source": [
    "# текст запроса\n",
    "query_6_3 = '''\n",
    "select\n",
    "    count(*) as cnt\n",
    "from vacancies v\n",
    "where (\n",
    "    v.name ilike '%%data scientist%%' \n",
    "    or v.name ilike '%%data science%%'\n",
    "    or v.name ilike '%%исследователь данных%%'\n",
    "    or (v.name like '%%ML%%' and v.name not ilike '%%HTML%%')\n",
    "    or v.name ilike '%%machine learning%%'\n",
    "    or v.name ilike '%%машинн%%обучен%%')\n",
    "\n",
    "and\n",
    "\n",
    "(\n",
    "    v.key_skills ilike '%%SQL%%'\n",
    "    or v.key_skills ilike '%%postgres%%'\n",
    ")\n",
    "'''\n",
    "\n"
   ]
  },
  {
   "cell_type": "code",
   "execution_count": 389,
   "id": "alA8WEAAvGdf",
   "metadata": {
    "id": "alA8WEAAvGdf"
   },
   "outputs": [
    {
     "name": "stdout",
     "output_type": "stream",
     "text": [
      "6.3 Количество вакансий в области Data Science, в которых SQL или Postgres указаны как ключевые навыки: 201\n"
     ]
    }
   ],
   "source": [
    "# результат запроса\n",
    "answer_6_3 = pd.read_sql_query(query_6_3, connection)\n",
    "print(f\"6.3 Количество вакансий в области Data Science, в которых SQL или Postgres указаны как ключевые навыки: {answer_6_3['cnt'][0]}\")"
   ]
  },
  {
   "cell_type": "markdown",
   "id": "1be1e9c6-37cf-4a5f-bfeb-04cab799dc80",
   "metadata": {
    "id": "1be1e9c6-37cf-4a5f-bfeb-04cab799dc80"
   },
   "source": [
    "4. Проверьте, насколько популярен Python в требованиях работодателей к DS.Для этого вычислите количество вакансий, в которых в качестве ключевого навыка указан Python.\n",
    "\n",
    "** Это можно сделать помощью запроса, аналогичного предыдущему.*"
   ]
  },
  {
   "cell_type": "code",
   "execution_count": 390,
   "id": "0036a355-9ccf-4564-8b01-73d8194297e7",
   "metadata": {
    "id": "0036a355-9ccf-4564-8b01-73d8194297e7"
   },
   "outputs": [],
   "source": [
    "# текст запроса\n",
    "query_6_4 = '''\n",
    "select\n",
    "    count(*) as cnt\n",
    "from vacancies v\n",
    "where (\n",
    "    v.name ilike '%%data scientist%%' \n",
    "    or v.name ilike '%%data science%%'\n",
    "    or v.name ilike '%%исследователь данных%%'\n",
    "    or (v.name like '%%ML%%' and v.name not ilike '%%HTML%%')\n",
    "    or v.name ilike '%%machine learning%%'\n",
    "    or v.name ilike '%%машинн%%обучен%%')\n",
    "\n",
    "and\n",
    "\n",
    "(\n",
    "    v.key_skills ilike '%%python%%'\n",
    ")\n",
    "'''"
   ]
  },
  {
   "cell_type": "code",
   "execution_count": 391,
   "id": "1i-5WyucvQ6v",
   "metadata": {
    "id": "1i-5WyucvQ6v"
   },
   "outputs": [
    {
     "name": "stdout",
     "output_type": "stream",
     "text": [
      "6.4 Количество вакансий в области Data Science, в которых Python указан как ключевой навык: 351\n"
     ]
    }
   ],
   "source": [
    "# результат запроса\n",
    "answer_6_4 = pd.read_sql_query(query_6_4, connection)\n",
    "print(f\"6.4 Количество вакансий в области Data Science, в которых Python указан как ключевой навык: {answer_6_4['cnt'][0]}\")"
   ]
  },
  {
   "cell_type": "markdown",
   "id": "ec3c8db7-fa21-4a41-a994-1af63742a642",
   "metadata": {
    "id": "ec3c8db7-fa21-4a41-a994-1af63742a642"
   },
   "source": [
    "5. Сколько ключевых навыков в среднем указывают в вакансиях для DS?\n",
    "Ответ округлите до двух знаков после точки-разделителя."
   ]
  },
  {
   "cell_type": "code",
   "execution_count": 392,
   "id": "949132bc-d5b6-4611-8218-0b9a504d74f4",
   "metadata": {
    "id": "949132bc-d5b6-4611-8218-0b9a504d74f4"
   },
   "outputs": [],
   "source": [
    "# текст запроса\n",
    "query_6_5 = '''\n",
    "select\n",
    "    round(avg((length(v.key_skills) - length(replace(v.key_skills, CHR(9), '')) + 1)), 2) avg\n",
    "\n",
    "from vacancies v\n",
    "where (\n",
    "    v.name ilike '%%data scientist%%' \n",
    "    or v.name ilike '%%data science%%'\n",
    "    or v.name ilike '%%исследователь данных%%'\n",
    "    or (v.name like '%%ML%%' and v.name not like '%%HTML%%')\n",
    "    or v.name ilike '%%machine learning%%'\n",
    "    or v.name ilike '%%машинн%%обучен%%')\n",
    "'''"
   ]
  },
  {
   "cell_type": "code",
   "execution_count": 393,
   "id": "a3V24Tvmviqk",
   "metadata": {
    "id": "a3V24Tvmviqk"
   },
   "outputs": [
    {
     "name": "stdout",
     "output_type": "stream",
     "text": [
      "6.5 Среднее количество ключевых навыков для вакансий по Data Science: 6.41\n"
     ]
    }
   ],
   "source": [
    "# результат запроса\n",
    "answer_6_5 = pd.read_sql_query(query_6_5, connection)\n",
    "print(f\"6.5 Среднее количество ключевых навыков для вакансий по Data Science: {answer_6_5['avg'][0]}\")"
   ]
  },
  {
   "cell_type": "markdown",
   "id": "1041c17a-ca8f-4543-a0ca-32778914fb00",
   "metadata": {
    "id": "1041c17a-ca8f-4543-a0ca-32778914fb00"
   },
   "source": [
    "6. Напишите запрос, позволяющий вычислить, какую зарплату для DS в **среднем** указывают для каждого типа требуемого опыта (уникальное значение из поля *experience*). \n",
    "\n",
    "При решении задачи примите во внимание следующее:\n",
    "1. Рассматриваем только вакансии, у которых заполнено хотя бы одно из двух полей с зарплатой.\n",
    "2. Если заполнены оба поля с зарплатой, то считаем зарплату по каждой вакансии как сумму двух полей, делённую на 2. Если заполнено только одно из полей, то его и считаем зарплатой по вакансии.\n",
    "3. Если в расчётах участвует null, в результате он тоже даст null (посмотрите, что возвращает запрос select 1 + null). Чтобы избежать этой ситуацию, мы воспользуемся функцией [coalesce](https://postgrespro.ru/docs/postgresql/9.5/functions-conditional#functions-coalesce-nvl-ifnull), которая заменит null на значение, которое мы передадим. Например, посмотрите, что возвращает запрос `select 1 + coalesce(null, 0)`\n",
    "\n",
    "Выясните, на какую зарплату в среднем может рассчитывать дата-сайентист с опытом работы от 3 до 6 лет. Результат округлите до целого числа. "
   ]
  },
  {
   "cell_type": "code",
   "execution_count": 394,
   "id": "6a743d39-5204-48d3-8271-b9f88e68d40e",
   "metadata": {
    "id": "6a743d39-5204-48d3-8271-b9f88e68d40e"
   },
   "outputs": [],
   "source": [
    "# текст запроса\n",
    "query_6_6 = '''\n",
    "select\n",
    "    v.experience,\n",
    "    round(avg((coalesce(v.salary_from, v.salary_to) + coalesce(v.salary_to, v.salary_from)) / 2)) avg_salary\n",
    "\n",
    "from vacancies v\n",
    "where (\n",
    "        v.name ilike '%%data scientist%%' \n",
    "        or v.name ilike '%%data science%%'\n",
    "        or v.name ilike '%%исследователь данных%%'\n",
    "        or (v.name like '%%ML%%' and v.name not like '%%HTML%%')\n",
    "        or v.name ilike '%%machine learning%%'\n",
    "        or v.name ilike '%%машинн%%обучен%%'\n",
    "        )\n",
    "\n",
    "and   (\n",
    "        v.salary_from is not null\n",
    "        or v.salary_to is not null\n",
    "        )\n",
    "\n",
    "group by v.experience\n",
    "'''\n",
    "\n"
   ]
  },
  {
   "cell_type": "code",
   "execution_count": 395,
   "id": "aRIJ0mZEwU1_",
   "metadata": {
    "id": "aRIJ0mZEwU1_"
   },
   "outputs": [
    {
     "name": "stdout",
     "output_type": "stream",
     "text": [
      "6.6 Data Scientist с опытом работы от 3 до 6 лет могут ожидать зарплату в размере: 243115.0 RUB\n"
     ]
    },
    {
     "data": {
      "text/html": [
       "<div>\n",
       "<style scoped>\n",
       "    .dataframe tbody tr th:only-of-type {\n",
       "        vertical-align: middle;\n",
       "    }\n",
       "\n",
       "    .dataframe tbody tr th {\n",
       "        vertical-align: top;\n",
       "    }\n",
       "\n",
       "    .dataframe thead th {\n",
       "        text-align: right;\n",
       "    }\n",
       "</style>\n",
       "<table border=\"1\" class=\"dataframe\">\n",
       "  <thead>\n",
       "    <tr style=\"text-align: right;\">\n",
       "      <th></th>\n",
       "      <th>experience</th>\n",
       "      <th>avg_salary</th>\n",
       "    </tr>\n",
       "  </thead>\n",
       "  <tbody>\n",
       "    <tr>\n",
       "      <th>0</th>\n",
       "      <td>Нет опыта</td>\n",
       "      <td>74643.0</td>\n",
       "    </tr>\n",
       "    <tr>\n",
       "      <th>1</th>\n",
       "      <td>От 1 года до 3 лет</td>\n",
       "      <td>139675.0</td>\n",
       "    </tr>\n",
       "    <tr>\n",
       "      <th>2</th>\n",
       "      <td>От 3 до 6 лет</td>\n",
       "      <td>243115.0</td>\n",
       "    </tr>\n",
       "  </tbody>\n",
       "</table>\n",
       "</div>"
      ],
      "text/plain": [
       "           experience  avg_salary\n",
       "0           Нет опыта     74643.0\n",
       "1  От 1 года до 3 лет    139675.0\n",
       "2       От 3 до 6 лет    243115.0"
      ]
     },
     "execution_count": 395,
     "metadata": {},
     "output_type": "execute_result"
    }
   ],
   "source": [
    "# результат запроса\n",
    "answer_6_6 = pd.read_sql_query(query_6_6, connection)\n",
    "print(f\"6.6 Data Scientist с опытом работы от 3 до 6 лет могут ожидать зарплату в размере: {answer_6_6['avg_salary'][2]} RUB\")\n",
    "answer_6_6"
   ]
  },
  {
   "cell_type": "markdown",
   "id": "6a7892b4-4113-4746-adce-18aa2844f18e",
   "metadata": {
    "id": "6a7892b4-4113-4746-adce-18aa2844f18e"
   },
   "source": [
    "***"
   ]
  },
  {
   "cell_type": "markdown",
   "id": "874e12ec-fc85-4619-b460-f96ca04dbdcf",
   "metadata": {
    "id": "UjLWUptVwY1o"
   },
   "source": [
    "# выводы по предметному анализу\n",
    "\n",
    "1. **Популярность Темы**: 1771 вакансии включают в название слова 'data' или 'данн'.\n",
    "2. **Возможности для Новичков**: 51 вакансия для Data Scientist для начинающих и волонтеров, не требующая опыта.\n",
    "3. **SQL и Postgres**: 201 вакансия для Data Scientist упоминает SQL или Postgres как ключевые навыки.\n",
    "4. **Python в Требованиях**: 351 вакансия упоминает Python как ключевой навык.\n",
    "5. **Среднее Количество Навыков**: В среднем требуется знание 6.41 ключевых навыков для вакансий по Data Science.\n",
    "6. **Зарплата с Опытом**: Data Scientist с опытом работы от 3 до 6 лет могут ожидать зарплату в размере 243,115 рублей.\n",
    "\n",
    "В простых словах, в сфере Data Science много вакансий и разные требования к навыкам. Если у тебя есть опыт, особенно с Python или SQL, можно рассчитывать на хорошую зарплату. Даже если ты новичок, есть вакансии для тебя.\n",
    "\n",
    "### English\n",
    "### Conclusions on Preliminary Data Analysis in the Field of Data Science:\n",
    "\n",
    "1. **Topic Popularity**: 1771 vacancies include the words 'data' or 'данн' in the title.\n",
    "2. **Opportunities for Beginners**: There are 51 job vacancies for Data Scientists at the junior level that require no experience and are volunteer positions.\n",
    "3. **SQL and Postgres**: 201 Data Scientist vacancies list SQL or Postgres as key skills.\n",
    "4. **Python Requirements**: 351 vacancies mention Python as a key skill.\n",
    "5. **Average Number of Skills**: On average, 6.41 key skills are required for Data Science job vacancies.\n",
    "6. **Salary with Experience**: Data Scientists with 3-6 years of experience can expect a salary of 243,115 RUB.\n",
    "\n",
    "In simple terms, there are many vacancies in the Data Science field with various skill requirements. If you have experience, especially in Python or SQL, you can expect a good salary. Even if you're a beginner, there are opportunities for you."
   ]
  },
  {
   "cell_type": "markdown",
   "id": "c0ED6fh7wiBT",
   "metadata": {
    "id": "c0ED6fh7wiBT",
    "tags": []
   },
   "source": [
    "# Общий вывод по проекту"
   ]
  },
  {
   "cell_type": "code",
   "execution_count": 396,
   "id": "250bf824-4a4a-4e67-bd9c-6769ab9fcab0",
   "metadata": {
    "id": "h9B3BL-wwj18"
   },
   "outputs": [],
   "source": [
    "# подведем итог исследования, обобщите выводы\n",
    "# здесь можно (это будет плюсом) провести дополнительные исследования данных, сделать прогнозы, продумать варианты продолжения исследования\n"
   ]
  },
  {
   "cell_type": "markdown",
   "id": "80c83ef0-f293-4a04-ae56-6d11dbf1797a",
   "metadata": {},
   "source": [
    "Рынок труда взлетает с почти 50,000 уникальных вакансий от более чем 23,000 работодателей. Возможности географически разнообразны и распределены по различным отраслям, так что у вас есть выбор, оставаться на месте или исследовать новые места и сектора. Большие города, как Москва и Санкт-Петербург, являются ключевыми точками, но меньшие города также набирают обороты. Зарплаты варьируются от 71К до 110К, и есть хороший выбор как полноценных, так и удаленных вакансий. Отличные новости для новичков: многие работы доступны для начинающих.\n",
    "\n",
    "В области Data Science также много ролей, особенно если вы знаете Python или SQL. Новички не остаются в стороне, и если у вас есть опыт работы от 3 до 6 лет, вы можете рассчитывать на зарплату порядка 243К рублей.\n",
    "\n",
    "### English\n",
    "The job market is booming with nearly 50,000 unique vacancies from over 23,000 employers. Opportunities are geographically diverse and spread across different industries, so you've got options whether you want to stay put or explore new places and sectors. Big cities like Moscow and St. Petersburg are hotspots, but smaller ones are catching up. Salaries range around 71K to 110K, and there's a good mix of full-time and remote jobs. Great news if you're a newbie: many jobs are beginner-friendly.\n",
    "\n",
    "In the Data Science field, there are plenty of roles, especially if you know Python or SQL. Beginners aren't left out either, and if you have 3-6 years of experience, you could earn around 243K RUB."
   ]
  },
  {
   "cell_type": "code",
   "execution_count": null,
   "id": "b00636a1-a63c-46e6-b125-596c7d42c90f",
   "metadata": {},
   "outputs": [],
   "source": []
  }
 ],
 "metadata": {
  "colab": {
   "collapsed_sections": [
    "8d62a9f3-f64e-4fe7-bdac-c4dffa16155e"
   ],
   "provenance": []
  },
  "kernelspec": {
   "display_name": "Python 3 (ipykernel)",
   "language": "python",
   "name": "python3"
  },
  "language_info": {
   "codemirror_mode": {
    "name": "ipython",
    "version": 3
   },
   "file_extension": ".py",
   "mimetype": "text/x-python",
   "name": "python",
   "nbconvert_exporter": "python",
   "pygments_lexer": "ipython3",
   "version": "3.8.6"
  }
 },
 "nbformat": 4,
 "nbformat_minor": 5
}
